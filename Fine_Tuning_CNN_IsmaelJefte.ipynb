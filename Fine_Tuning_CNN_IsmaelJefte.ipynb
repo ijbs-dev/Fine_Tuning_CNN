{
  "nbformat": 4,
  "nbformat_minor": 0,
  "metadata": {
    "colab": {
      "provenance": [],
      "gpuType": "T4"
    },
    "kernelspec": {
      "name": "python3",
      "display_name": "Python 3"
    },
    "language_info": {
      "name": "python"
    },
    "accelerator": "GPU"
  },
  "cells": [
    {
      "cell_type": "markdown",
      "source": [
        "## Autor: Ismael Jefte Bispo da Silva\n",
        "\n",
        "1. **Construção do Dataset:**\n",
        "   - O CIFAR-10 foi carregado diretamente utilizando `torchvision.datasets.CIFAR10`, e transformações foram aplicadas para redimensionamento, normalização e separação em conjuntos de treino e validação.\n",
        "\n",
        "2. **Data Augmentation:**\n",
        "   - Técnicas de data augmentation foram aplicadas, incluindo rotação e flip horizontal, para aumentar a variabilidade do dataset e melhorar a generalização do modelo.\n",
        "\n",
        "3. **Uso de Modelos Pré-Treinados:**\n",
        "   - Foi utilizado o modelo ResNet50 pré-treinado no ImageNet. Este modelo é amplamente utilizado para tarefas de transfer learning em classificação de imagens devido à sua capacidade de capturar características discriminativas poderosas.\n",
        "\n",
        "4. **Construção do Modelo Classificador:**\n",
        "   - A última camada da ResNet50 foi substituída por uma camada linear com 10 saídas correspondentes às classes do CIFAR-10.\n",
        "\n",
        "5. **Congelamento de Camadas:**\n",
        "   - As camadas iniciais da ResNet50 foram congeladas para preservar os pesos aprendidos no ImageNet, permitindo que apenas as últimas camadas fossem ajustadas durante o treinamento para o novo conjunto de dados.\n",
        "\n",
        "6. **Treinamento e Curvas de Desempenho:**\n",
        "   - O modelo foi treinado e as curvas de loss e acurácia para os conjuntos de treino e validação foram monitoradas ao longo das épocas. Observa-se que, durante o treinamento, a loss para o conjunto de treino diminui consistentemente, e a acurácia aumenta, o que é esperado em um processo de treinamento bem-sucedido.\n"
      ],
      "metadata": {
        "id": "mkAlsXncCZx5"
      }
    },
    {
      "cell_type": "code",
      "execution_count": null,
      "metadata": {
        "id": "nMVKbqUYCRQ3"
      },
      "outputs": [],
      "source": [
        "import torch\n",
        "import torch.optim as optim\n",
        "from torch.optim import lr_scheduler\n",
        "from torchvision import datasets, transforms, models\n",
        "import matplotlib.pyplot as plt\n",
        "from torch.utils.data import DataLoader"
      ]
    },
    {
      "cell_type": "code",
      "source": [
        "# Configurações iniciais\n",
        "batch_size = 32\n",
        "num_epochs = 10\n",
        "num_classes = 10\n",
        "\n",
        "# Definir dispositivo\n",
        "device = torch.device(\"cuda\" if torch.cuda.is_available() else \"cpu\")\n"
      ],
      "metadata": {
        "id": "1YRBmbLVDuBr"
      },
      "execution_count": null,
      "outputs": []
    },
    {
      "cell_type": "code",
      "source": [
        "# Transformações do Dataset\n",
        "transform = transforms.Compose([\n",
        "    transforms.Resize((224, 224)),\n",
        "    transforms.RandomHorizontalFlip(),\n",
        "    transforms.RandomRotation(10),\n",
        "    transforms.ColorJitter(brightness=0.2, contrast=0.2, saturation=0.2, hue=0.2),\n",
        "    transforms.ToTensor(),\n",
        "    transforms.Normalize(mean=[0.485, 0.456, 0.406], std=[0.229, 0.224, 0.225]),\n",
        "])\n"
      ],
      "metadata": {
        "id": "tdcTCHtcDw0T"
      },
      "execution_count": null,
      "outputs": []
    },
    {
      "cell_type": "code",
      "source": [
        "# Carregando o Dataset CIFAR-10\n",
        "train_dataset = datasets.CIFAR10(root='./data', train=True, download=True, transform=transform)\n",
        "val_dataset = datasets.CIFAR10(root='./data', train=False, download=True, transform=transform)\n"
      ],
      "metadata": {
        "colab": {
          "base_uri": "https://localhost:8080/"
        },
        "id": "aH20ro_-Dzar",
        "outputId": "7b71aa9c-9767-44e8-fff3-a1fa0a17a8c4"
      },
      "execution_count": null,
      "outputs": [
        {
          "output_type": "stream",
          "name": "stdout",
          "text": [
            "Files already downloaded and verified\n",
            "Files already downloaded and verified\n"
          ]
        }
      ]
    },
    {
      "cell_type": "code",
      "source": [
        "# DataLoaders para treino e validação\n",
        "train_loader = DataLoader(train_dataset, batch_size=batch_size, shuffle=True)\n",
        "val_loader = DataLoader(val_dataset, batch_size=batch_size, shuffle=False)\n",
        "\n"
      ],
      "metadata": {
        "id": "6Iz-edTjEBlE"
      },
      "execution_count": null,
      "outputs": []
    },
    {
      "cell_type": "code",
      "source": [
        "# Carregando o Modelo Pré-Treinado\n",
        "model = models.resnet50(pretrained=True)\n",
        "num_ftrs = model.fc.in_features\n",
        "model.fc = torch.nn.Linear(num_ftrs, num_classes)\n"
      ],
      "metadata": {
        "id": "DwumYMm6EEe7"
      },
      "execution_count": null,
      "outputs": []
    },
    {
      "cell_type": "code",
      "source": [
        "# Inicializando a última camada (opcional, pode ajudar)\n",
        "torch.nn.init.xavier_uniform_(model.fc.weight)\n"
      ],
      "metadata": {
        "colab": {
          "base_uri": "https://localhost:8080/"
        },
        "id": "CrLBQqsLMM2W",
        "outputId": "5535a218-840d-40f6-ec7c-3fc09e416fa6"
      },
      "execution_count": null,
      "outputs": [
        {
          "output_type": "execute_result",
          "data": {
            "text/plain": [
              "Parameter containing:\n",
              "tensor([[ 0.0441,  0.0036, -0.0172,  ..., -0.0046,  0.0309, -0.0020],\n",
              "        [ 0.0312,  0.0290, -0.0356,  ..., -0.0356, -0.0495, -0.0301],\n",
              "        [ 0.0058, -0.0114, -0.0291,  ...,  0.0222, -0.0210, -0.0027],\n",
              "        ...,\n",
              "        [ 0.0532,  0.0257,  0.0270,  ...,  0.0013,  0.0033,  0.0166],\n",
              "        [ 0.0359, -0.0161,  0.0437,  ...,  0.0472, -0.0354, -0.0020],\n",
              "        [-0.0209,  0.0399, -0.0050,  ...,  0.0002,  0.0258,  0.0369]],\n",
              "       requires_grad=True)"
            ]
          },
          "metadata": {},
          "execution_count": 33
        }
      ]
    },
    {
      "cell_type": "code",
      "source": [
        "# Descongelando apenas as camadas finais\n",
        "for name, param in model.named_parameters():\n",
        "    if \"layer4\" in name or \"fc\" in name:\n",
        "        param.requires_grad = True\n",
        "    else:\n",
        "        param.requires_grad = False\n",
        "\n",
        "model = model.to(device)"
      ],
      "metadata": {
        "id": "i2Cf84yaEHWx"
      },
      "execution_count": null,
      "outputs": []
    },
    {
      "cell_type": "code",
      "source": [
        "# Definindo Critério, Otimizador e Agendador\n",
        "criterion = torch.nn.CrossEntropyLoss()\n",
        "optimizer = optim.Adam(model.parameters(), lr=0.0001)\n",
        "scheduler = lr_scheduler.StepLR(optimizer, step_size=3, gamma=0.5)\n"
      ],
      "metadata": {
        "id": "MQh-ISvFEKCA"
      },
      "execution_count": null,
      "outputs": []
    },
    {
      "cell_type": "code",
      "source": [
        "# Função de Treinamento Modificada\n",
        "def train_model(model, train_loader, val_loader, num_epochs=3):\n",
        "    train_loss, val_loss, train_acc, val_acc = [], [], [], []\n",
        "\n",
        "    for epoch in range(num_epochs):\n",
        "        model.train()\n",
        "        running_loss, running_corrects = 0.0, 0\n",
        "\n",
        "        print(f'Starting epoch {epoch+1}/{num_epochs}')\n",
        "        print(f'Current Learning Rate: {optimizer.param_groups[0][\"lr\"]}')\n",
        "\n",
        "        for i, (inputs, labels) in enumerate(train_loader):\n",
        "            inputs, labels = inputs.to(device), labels.to(device)\n",
        "\n",
        "            optimizer.zero_grad()\n",
        "            outputs = model(inputs)\n",
        "            loss = criterion(outputs, labels)\n",
        "            loss.backward()\n",
        "            optimizer.step()\n",
        "\n",
        "            running_loss += loss.item() * inputs.size(0)\n",
        "            running_corrects += torch.sum(torch.argmax(outputs, 1) == labels.data)\n",
        "\n",
        "            if i % 100 == 0:  # Imprime a cada 100 batches\n",
        "                print(f'Batch {i}/{len(train_loader)}, Loss: {running_loss / (i+1):.4f}')\n",
        "\n",
        "        epoch_loss = running_loss / len(train_loader.dataset)\n",
        "        epoch_acc = running_corrects.double() / len(train_loader.dataset)\n",
        "\n",
        "        train_loss.append(epoch_loss)\n",
        "        train_acc.append(epoch_acc)\n",
        "\n",
        "        # Validação\n",
        "        model.eval()\n",
        "        val_running_loss, val_running_corrects = 0.0, 0\n",
        "\n",
        "        with torch.no_grad():\n",
        "            for inputs, labels in val_loader:\n",
        "                inputs, labels = inputs.to(device), labels.to(device)\n",
        "                outputs = model(inputs)\n",
        "                loss = criterion(outputs, labels)\n",
        "\n",
        "                val_running_loss += loss.item() * inputs.size(0)\n",
        "                val_running_corrects += torch.sum(torch.argmax(outputs, 1) == labels.data)\n",
        "\n",
        "        val_loss_epoch = val_running_loss / len(val_loader.dataset)\n",
        "        val_acc_epoch = val_running_corrects.double() / len(val_loader.dataset)\n",
        "\n",
        "        val_loss.append(val_loss_epoch)\n",
        "        val_acc.append(val_acc_epoch)\n",
        "\n",
        "        scheduler.step()\n",
        "\n",
        "        print(f'Epoch {epoch+1}/{num_epochs}')\n",
        "        print(f'Train Loss: {epoch_loss:.4f}, Train Accuracy: {epoch_acc:.4f}')\n",
        "        print(f'Val Loss: {val_loss_epoch:.4f}, Val Accuracy: {val_acc_epoch:.4f}')\n",
        "        print('-' * 30)\n",
        "\n",
        "    return model, train_loss, val_loss, train_acc, val_acc\n"
      ],
      "metadata": {
        "id": "UgmTTRVbENJL"
      },
      "execution_count": null,
      "outputs": []
    },
    {
      "cell_type": "code",
      "source": [
        "# Treinando o Modelo\n",
        "model, train_loss, val_loss, train_acc, val_acc = train_model(model, train_loader, val_loader, num_epochs)\n"
      ],
      "metadata": {
        "colab": {
          "base_uri": "https://localhost:8080/"
        },
        "id": "0zdhT-N_EPwG",
        "outputId": "3e56d96c-bb58-4d09-925c-b845c16915b1"
      },
      "execution_count": null,
      "outputs": [
        {
          "output_type": "stream",
          "name": "stdout",
          "text": [
            "Starting epoch 1/10\n",
            "Current Learning Rate: 0.0001\n",
            "Batch 0/1563, Loss: 13.2505\n",
            "Batch 100/1563, Loss: 9.3515\n",
            "Batch 200/1563, Loss: 8.8544\n",
            "Batch 300/1563, Loss: 8.6987\n",
            "Batch 400/1563, Loss: 8.6145\n",
            "Batch 500/1563, Loss: 8.7240\n",
            "Batch 600/1563, Loss: 8.5953\n",
            "Batch 700/1563, Loss: 8.5874\n",
            "Batch 800/1563, Loss: 8.5678\n",
            "Batch 900/1563, Loss: 8.5424\n",
            "Batch 1000/1563, Loss: 8.4340\n",
            "Batch 1100/1563, Loss: 8.4060\n",
            "Batch 1200/1563, Loss: 8.4397\n",
            "Batch 1300/1563, Loss: 8.4336\n",
            "Batch 1400/1563, Loss: 8.4503\n",
            "Batch 1500/1563, Loss: 8.4180\n",
            "Epoch 1/10\n",
            "Train Loss: 0.2632, Train Accuracy: 0.9088\n",
            "Val Loss: 0.2875, Val Accuracy: 0.9002\n",
            "------------------------------\n",
            "Starting epoch 2/10\n",
            "Current Learning Rate: 0.0001\n",
            "Batch 0/1563, Loss: 5.7045\n",
            "Batch 100/1563, Loss: 7.6569\n",
            "Batch 200/1563, Loss: 7.8225\n",
            "Batch 300/1563, Loss: 7.7475\n",
            "Batch 400/1563, Loss: 7.7519\n",
            "Batch 500/1563, Loss: 7.9707\n",
            "Batch 600/1563, Loss: 7.9392\n",
            "Batch 700/1563, Loss: 7.8317\n",
            "Batch 800/1563, Loss: 7.8068\n",
            "Batch 900/1563, Loss: 7.9127\n",
            "Batch 1000/1563, Loss: 7.8733\n",
            "Batch 1100/1563, Loss: 7.8087\n",
            "Batch 1200/1563, Loss: 7.8406\n",
            "Batch 1300/1563, Loss: 7.8188\n",
            "Batch 1400/1563, Loss: 7.8373\n",
            "Batch 1500/1563, Loss: 7.8397\n",
            "Epoch 2/10\n",
            "Train Loss: 0.2449, Train Accuracy: 0.9165\n",
            "Val Loss: 0.2617, Val Accuracy: 0.9120\n",
            "------------------------------\n",
            "Starting epoch 3/10\n",
            "Current Learning Rate: 5e-05\n",
            "Batch 0/1563, Loss: 3.7378\n",
            "Batch 100/1563, Loss: 6.7572\n",
            "Batch 200/1563, Loss: 7.0264\n",
            "Batch 300/1563, Loss: 6.9743\n",
            "Batch 400/1563, Loss: 7.0255\n",
            "Batch 500/1563, Loss: 7.0884\n",
            "Batch 600/1563, Loss: 7.1075\n",
            "Batch 700/1563, Loss: 7.1474\n",
            "Batch 800/1563, Loss: 7.1398\n",
            "Batch 900/1563, Loss: 7.1595\n",
            "Batch 1000/1563, Loss: 7.1692\n",
            "Batch 1100/1563, Loss: 7.1725\n",
            "Batch 1200/1563, Loss: 7.2148\n",
            "Batch 1300/1563, Loss: 7.2192\n",
            "Batch 1400/1563, Loss: 7.2163\n",
            "Batch 1500/1563, Loss: 7.2314\n",
            "Epoch 3/10\n",
            "Train Loss: 0.2267, Train Accuracy: 0.9222\n",
            "Val Loss: 0.2652, Val Accuracy: 0.9100\n",
            "------------------------------\n",
            "Starting epoch 4/10\n",
            "Current Learning Rate: 5e-05\n",
            "Batch 0/1563, Loss: 11.0895\n",
            "Batch 100/1563, Loss: 7.3313\n",
            "Batch 200/1563, Loss: 7.3377\n",
            "Batch 300/1563, Loss: 7.3220\n",
            "Batch 400/1563, Loss: 7.2853\n",
            "Batch 500/1563, Loss: 7.1049\n",
            "Batch 600/1563, Loss: 7.0240\n",
            "Batch 700/1563, Loss: 6.9504\n",
            "Batch 800/1563, Loss: 6.9921\n",
            "Batch 900/1563, Loss: 7.0078\n",
            "Batch 1000/1563, Loss: 7.0251\n",
            "Batch 1100/1563, Loss: 6.9404\n",
            "Batch 1200/1563, Loss: 6.9295\n",
            "Batch 1300/1563, Loss: 6.9411\n",
            "Batch 1400/1563, Loss: 6.8972\n",
            "Batch 1500/1563, Loss: 6.9152\n",
            "Epoch 4/10\n",
            "Train Loss: 0.2158, Train Accuracy: 0.9259\n",
            "Val Loss: 0.2724, Val Accuracy: 0.9091\n",
            "------------------------------\n",
            "Starting epoch 5/10\n",
            "Current Learning Rate: 5e-05\n",
            "Batch 0/1563, Loss: 7.3589\n",
            "Batch 100/1563, Loss: 6.4841\n",
            "Batch 200/1563, Loss: 6.3101\n",
            "Batch 300/1563, Loss: 6.5523\n",
            "Batch 400/1563, Loss: 6.4504\n",
            "Batch 500/1563, Loss: 6.5346\n",
            "Batch 600/1563, Loss: 6.4876\n",
            "Batch 700/1563, Loss: 6.5719\n",
            "Batch 800/1563, Loss: 6.5801\n",
            "Batch 900/1563, Loss: 6.5826\n",
            "Batch 1000/1563, Loss: 6.5955\n",
            "Batch 1100/1563, Loss: 6.5233\n",
            "Batch 1200/1563, Loss: 6.5996\n",
            "Batch 1300/1563, Loss: 6.5573\n",
            "Batch 1400/1563, Loss: 6.6157\n",
            "Batch 1500/1563, Loss: 6.6343\n",
            "Epoch 5/10\n",
            "Train Loss: 0.2073, Train Accuracy: 0.9278\n",
            "Val Loss: 0.2556, Val Accuracy: 0.9154\n",
            "------------------------------\n",
            "Starting epoch 6/10\n",
            "Current Learning Rate: 2.5e-05\n",
            "Batch 0/1563, Loss: 2.3931\n",
            "Batch 100/1563, Loss: 6.4902\n",
            "Batch 200/1563, Loss: 6.4116\n",
            "Batch 300/1563, Loss: 6.3789\n",
            "Batch 400/1563, Loss: 6.3751\n",
            "Batch 500/1563, Loss: 6.3758\n",
            "Batch 600/1563, Loss: 6.3340\n",
            "Batch 700/1563, Loss: 6.3248\n",
            "Batch 800/1563, Loss: 6.3306\n",
            "Batch 900/1563, Loss: 6.2810\n",
            "Batch 1000/1563, Loss: 6.2253\n",
            "Batch 1100/1563, Loss: 6.2731\n",
            "Batch 1200/1563, Loss: 6.2757\n",
            "Batch 1300/1563, Loss: 6.2702\n",
            "Batch 1400/1563, Loss: 6.2823\n",
            "Batch 1500/1563, Loss: 6.2749\n",
            "Epoch 6/10\n",
            "Train Loss: 0.1962, Train Accuracy: 0.9317\n",
            "Val Loss: 0.2544, Val Accuracy: 0.9128\n",
            "------------------------------\n",
            "Starting epoch 7/10\n",
            "Current Learning Rate: 2.5e-05\n",
            "Batch 0/1563, Loss: 7.5886\n",
            "Batch 100/1563, Loss: 6.1403\n",
            "Batch 200/1563, Loss: 6.0807\n",
            "Batch 300/1563, Loss: 6.2593\n",
            "Batch 400/1563, Loss: 6.1196\n",
            "Batch 500/1563, Loss: 6.1057\n",
            "Batch 600/1563, Loss: 6.0230\n",
            "Batch 700/1563, Loss: 6.0507\n",
            "Batch 800/1563, Loss: 6.0838\n",
            "Batch 900/1563, Loss: 6.1612\n",
            "Batch 1000/1563, Loss: 6.1322\n",
            "Batch 1100/1563, Loss: 6.1594\n",
            "Batch 1200/1563, Loss: 6.1809\n",
            "Batch 1300/1563, Loss: 6.1156\n",
            "Batch 1400/1563, Loss: 6.0896\n",
            "Batch 1500/1563, Loss: 6.0364\n",
            "Epoch 7/10\n",
            "Train Loss: 0.1883, Train Accuracy: 0.9349\n",
            "Val Loss: 0.2571, Val Accuracy: 0.9144\n",
            "------------------------------\n",
            "Starting epoch 8/10\n",
            "Current Learning Rate: 2.5e-05\n",
            "Batch 0/1563, Loss: 12.1848\n",
            "Batch 100/1563, Loss: 5.7719\n",
            "Batch 200/1563, Loss: 5.7491\n",
            "Batch 300/1563, Loss: 5.7552\n",
            "Batch 400/1563, Loss: 5.5805\n",
            "Batch 500/1563, Loss: 5.6672\n",
            "Batch 600/1563, Loss: 5.7541\n",
            "Batch 700/1563, Loss: 5.7502\n",
            "Batch 800/1563, Loss: 5.7652\n",
            "Batch 900/1563, Loss: 5.7520\n",
            "Batch 1000/1563, Loss: 5.7525\n",
            "Batch 1100/1563, Loss: 5.7378\n",
            "Batch 1200/1563, Loss: 5.7551\n",
            "Batch 1300/1563, Loss: 5.8166\n",
            "Batch 1400/1563, Loss: 5.7767\n",
            "Batch 1500/1563, Loss: 5.7763\n",
            "Epoch 8/10\n",
            "Train Loss: 0.1808, Train Accuracy: 0.9370\n",
            "Val Loss: 0.2615, Val Accuracy: 0.9135\n",
            "------------------------------\n",
            "Starting epoch 9/10\n",
            "Current Learning Rate: 1.25e-05\n",
            "Batch 0/1563, Loss: 3.3416\n",
            "Batch 100/1563, Loss: 5.5057\n",
            "Batch 200/1563, Loss: 5.5184\n",
            "Batch 300/1563, Loss: 5.4372\n",
            "Batch 400/1563, Loss: 5.4184\n",
            "Batch 500/1563, Loss: 5.3682\n",
            "Batch 600/1563, Loss: 5.3902\n",
            "Batch 700/1563, Loss: 5.4680\n",
            "Batch 800/1563, Loss: 5.5654\n",
            "Batch 900/1563, Loss: 5.4781\n",
            "Batch 1000/1563, Loss: 5.5557\n",
            "Batch 1100/1563, Loss: 5.5883\n",
            "Batch 1200/1563, Loss: 5.5853\n",
            "Batch 1300/1563, Loss: 5.5798\n",
            "Batch 1400/1563, Loss: 5.5734\n",
            "Batch 1500/1563, Loss: 5.5690\n",
            "Epoch 9/10\n",
            "Train Loss: 0.1737, Train Accuracy: 0.9394\n",
            "Val Loss: 0.2590, Val Accuracy: 0.9136\n",
            "------------------------------\n",
            "Starting epoch 10/10\n",
            "Current Learning Rate: 1.25e-05\n",
            "Batch 0/1563, Loss: 2.5465\n",
            "Batch 100/1563, Loss: 5.7088\n",
            "Batch 200/1563, Loss: 5.5164\n",
            "Batch 300/1563, Loss: 5.4551\n",
            "Batch 400/1563, Loss: 5.4371\n",
            "Batch 500/1563, Loss: 5.4083\n",
            "Batch 600/1563, Loss: 5.5024\n",
            "Batch 700/1563, Loss: 5.5206\n",
            "Batch 800/1563, Loss: 5.5134\n",
            "Batch 900/1563, Loss: 5.4957\n",
            "Batch 1000/1563, Loss: 5.5006\n",
            "Batch 1100/1563, Loss: 5.5263\n",
            "Batch 1200/1563, Loss: 5.5470\n",
            "Batch 1300/1563, Loss: 5.5347\n",
            "Batch 1400/1563, Loss: 5.5254\n",
            "Batch 1500/1563, Loss: 5.5135\n",
            "Epoch 10/10\n",
            "Train Loss: 0.1722, Train Accuracy: 0.9387\n",
            "Val Loss: 0.2566, Val Accuracy: 0.9165\n",
            "------------------------------\n"
          ]
        }
      ]
    },
    {
      "source": [
        "# Função para Visualizar as Curvas de Desempenho\n",
        "def plot_training_curves(train_loss, val_loss, train_acc, val_acc):\n",
        "    plt.figure(figsize=(12, 4))\n",
        "\n",
        "    plt.subplot(1, 2, 1)\n",
        "    plt.plot(train_loss, label='Train Loss')\n",
        "    plt.plot(val_loss, label='Val Loss')\n",
        "    plt.xlabel('Epochs')\n",
        "    plt.ylabel('Loss')\n",
        "    plt.title('Loss Curves')\n",
        "    plt.legend()\n",
        "\n",
        "    plt.subplot(1, 2, 2)\n",
        "    # Convert tensors to NumPy arrays and move them to CPU\n",
        "    plt.plot([x.cpu().numpy() for x in train_acc], label='Train Accuracy')\n",
        "    plt.plot([x.cpu().numpy() for x in val_acc], label='Val Accuracy')\n",
        "    plt.xlabel('Epochs')\n",
        "    plt.ylabel('Accuracy')\n",
        "    plt.title('Accuracy Curves')\n",
        "    plt.legend()\n",
        "\n",
        "    plt.show()"
      ],
      "cell_type": "code",
      "metadata": {
        "id": "T7QOB5a-yKsa"
      },
      "execution_count": null,
      "outputs": []
    },
    {
      "cell_type": "code",
      "source": [
        "# Plotando as Curvas de Desempenho\n",
        "plot_training_curves(train_loss, val_loss, train_acc, val_acc)\n"
      ],
      "metadata": {
        "colab": {
          "base_uri": "https://localhost:8080/",
          "height": 410
        },
        "id": "SaGTnsRQETPc",
        "outputId": "b0a191ff-b95f-4c16-e1c7-36d8df5952d1"
      },
      "execution_count": null,
      "outputs": [
        {
          "output_type": "display_data",
          "data": {
            "text/plain": [
              "<Figure size 1200x400 with 2 Axes>"
            ],
            "image/png": "[encoded data removed]"
          },
          "metadata": {}
        }
      ]
    },
    {
      "cell_type": "markdown",
      "source": [
        "O fine-tuning da ResNet50 no dataset CIFAR-10 foi bem-sucedido, como demonstrado pelas curvas de loss e acurácia. Observa-se que:\n",
        "\n",
        "- **Loss:** A perda no conjunto de treino diminui consistentemente, enquanto a perda de validação diminui inicialmente e depois se estabiliza, sugerindo que o modelo está aprendendo, mas pode estar se aproximando de seu limite de melhoria.\n",
        "\n",
        "- **Acurácia:** A acurácia no treino aumenta ao longo das épocas, enquanto a acurácia de validação cresce inicialmente e depois se estabiliza, indicando que o modelo está se ajustando bem aos dados, mas pode estar atingindo sua capacidade máxima de generalização.\n",
        "\n",
        "Esses padrões são comuns em processos de fine-tuning, onde o modelo pré-treinado adapta-se eficazmente a uma nova tarefa. A estratégia utilizada conseguiu ajustar o ResNet50 para a classificação de imagens no CIFAR-10, alcançando boa acurácia com perda reduzida, comprovando a eficácia do transfer learning."
      ],
      "metadata": {
        "id": "OMKdag57I3ZG"
      }
    }
  ]
}
